{
 "cells": [
  {
   "cell_type": "code",
   "execution_count": 7,
   "metadata": {},
   "outputs": [
    {
     "name": "stdout",
     "output_type": "stream",
     "text": [
      "\n"
     ]
    },
    {
     "name": "stderr",
     "output_type": "stream",
     "text": [
      "[WDM] - ====== WebDriver manager ======\n",
      "[WDM] - Could not get version for google-chrome. Is google-chrome installed?\n",
      "[WDM] - Get LATEST chromedriver version for None google-chrome\n",
      "[WDM] - Driver [/home/soc/.wdm/drivers/chromedriver/linux64/103.0.5060.53/chromedriver] found in cache\n"
     ]
    },
    {
     "ename": "DriverNotFoundError",
     "evalue": "No driver for chromium",
     "output_type": "error",
     "traceback": [
      "\u001b[0;31m---------------------------------------------------------------------------\u001b[0m",
      "\u001b[0;31mKeyError\u001b[0m                                  Traceback (most recent call last)",
      "File \u001b[0;32m~/miniconda3/lib/python3.9/site-packages/splinter/browser.py:117\u001b[0m, in \u001b[0;36mBrowser\u001b[0;34m(driver_name, retry_count, *args, **kwargs)\u001b[0m\n\u001b[1;32m    <a href='file:///home/soc/miniconda3/lib/python3.9/site-packages/splinter/browser.py?line=115'>116</a>\u001b[0m \u001b[39mtry\u001b[39;00m:\n\u001b[0;32m--> <a href='file:///home/soc/miniconda3/lib/python3.9/site-packages/splinter/browser.py?line=116'>117</a>\u001b[0m     driver \u001b[39m=\u001b[39m _DRIVERS[driver_name]\n\u001b[1;32m    <a href='file:///home/soc/miniconda3/lib/python3.9/site-packages/splinter/browser.py?line=117'>118</a>\u001b[0m \u001b[39mexcept\u001b[39;00m \u001b[39mKeyError\u001b[39;00m:\n",
      "\u001b[0;31mKeyError\u001b[0m: 'chromium'",
      "\nDuring handling of the above exception, another exception occurred:\n",
      "\u001b[0;31mDriverNotFoundError\u001b[0m                       Traceback (most recent call last)",
      "\u001b[1;32m/home/soc/Projects/DataScience_Bootcamp/Rutgers_Data_Science/Mission-to-Mars/practice.ipynb Cell 1'\u001b[0m in \u001b[0;36m<cell line: 5>\u001b[0;34m()\u001b[0m\n\u001b[1;32m      <a href='vscode-notebook-cell:/home/soc/Projects/DataScience_Bootcamp/Rutgers_Data_Science/Mission-to-Mars/practice.ipynb#ch0000000?line=2'>3</a>\u001b[0m \u001b[39mfrom\u001b[39;00m \u001b[39mwebdriver_manager\u001b[39;00m\u001b[39m.\u001b[39;00m\u001b[39mchrome\u001b[39;00m \u001b[39mimport\u001b[39;00m ChromeDriverManager\n\u001b[1;32m      <a href='vscode-notebook-cell:/home/soc/Projects/DataScience_Bootcamp/Rutgers_Data_Science/Mission-to-Mars/practice.ipynb#ch0000000?line=3'>4</a>\u001b[0m executablePath \u001b[39m=\u001b[39m {\u001b[39m'\u001b[39m\u001b[39mexecutablePath\u001b[39m\u001b[39m'\u001b[39m: ChromeDriverManager()\u001b[39m.\u001b[39minstall()}\n\u001b[0;32m----> <a href='vscode-notebook-cell:/home/soc/Projects/DataScience_Bootcamp/Rutgers_Data_Science/Mission-to-Mars/practice.ipynb#ch0000000?line=4'>5</a>\u001b[0m browser \u001b[39m=\u001b[39m Browser(\u001b[39m'\u001b[39;49m\u001b[39mchromium\u001b[39;49m\u001b[39m'\u001b[39;49m, \u001b[39m*\u001b[39;49m\u001b[39m*\u001b[39;49mexecutablePath, headless\u001b[39m=\u001b[39;49m\u001b[39mFalse\u001b[39;49;00m)\n",
      "File \u001b[0;32m~/miniconda3/lib/python3.9/site-packages/splinter/browser.py:119\u001b[0m, in \u001b[0;36mBrowser\u001b[0;34m(driver_name, retry_count, *args, **kwargs)\u001b[0m\n\u001b[1;32m    <a href='file:///home/soc/miniconda3/lib/python3.9/site-packages/splinter/browser.py?line=116'>117</a>\u001b[0m     driver \u001b[39m=\u001b[39m _DRIVERS[driver_name]\n\u001b[1;32m    <a href='file:///home/soc/miniconda3/lib/python3.9/site-packages/splinter/browser.py?line=117'>118</a>\u001b[0m \u001b[39mexcept\u001b[39;00m \u001b[39mKeyError\u001b[39;00m:\n\u001b[0;32m--> <a href='file:///home/soc/miniconda3/lib/python3.9/site-packages/splinter/browser.py?line=118'>119</a>\u001b[0m     \u001b[39mraise\u001b[39;00m DriverNotFoundError(\u001b[39m\"\u001b[39m\u001b[39mNo driver for \u001b[39m\u001b[39m%s\u001b[39;00m\u001b[39m\"\u001b[39m \u001b[39m%\u001b[39m driver_name)\n\u001b[1;32m    <a href='file:///home/soc/miniconda3/lib/python3.9/site-packages/splinter/browser.py?line=120'>121</a>\u001b[0m \u001b[39mreturn\u001b[39;00m get_driver(driver, retry_count\u001b[39m=\u001b[39mretry_count, \u001b[39m*\u001b[39margs, \u001b[39m*\u001b[39m\u001b[39m*\u001b[39mkwargs)\n",
      "\u001b[0;31mDriverNotFoundError\u001b[0m: No driver for chromium"
     ]
    }
   ],
   "source": [
    "from splinter import Browser\n",
    "from bs4 import BeautifulSoup as soup\n",
    "from webdriver_manager.chrome import ChromeDriverManager\n",
    "executablePath = {'executablePath': ChromeDriverManager().install()}\n",
    "browser = Browser('chromium', **executablePath, headless=False)"
   ]
  }
 ],
 "metadata": {
  "kernelspec": {
   "display_name": "Python 3.9.7",
   "language": "python",
   "name": "python3"
  },
  "language_info": {
   "codemirror_mode": {
    "name": "ipython",
    "version": 3
   },
   "file_extension": ".py",
   "mimetype": "text/x-python",
   "name": "python",
   "nbconvert_exporter": "python",
   "pygments_lexer": "ipython3",
   "version": "3.9.7"
  },
  "orig_nbformat": 4,
  "vscode": {
   "interpreter": {
    "hash": "cc240262cbd4d1df8faa4c6c712e94c12456edf63077d3f800ab41d367ca01fd"
   }
  }
 },
 "nbformat": 4,
 "nbformat_minor": 2
}
