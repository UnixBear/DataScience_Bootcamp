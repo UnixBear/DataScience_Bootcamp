{
 "cells": [
  {
   "cell_type": "markdown",
   "metadata": {},
   "source": [
    "# Project Goal:\n",
    "We have a dataset of tabulated results for a US Congressional Precinct in Colorado. We want to output certain information, which is:\n",
    "1. Total Votes counted\n",
    "2. Total number of votes per candidate\n",
    "3. The percentage breakdown of votes each condidate won\n",
    "4. The winner of the run\n",
    "\n",
    "## Voting Methods\n",
    "Of the tabulated resultes, there are a variety of voting methods too account for. \n",
    "- Mail-in-ballot\n",
    "- Punch Cards\n",
    "- Direct Recording Electronic Devices (DRE counting machines)\n"
   ]
  },
  {
   "cell_type": "code",
   "execution_count": 67,
   "metadata": {},
   "outputs": [
    {
     "name": "stdout",
     "output_type": "stream",
     "text": [
      "['Ballot ID', 'County', 'Candidate']\n",
      "Charles Casper Stockham: recieved 23.048272840137297% of the total vote\n",
      "Diana DeGette: recieved 73.81197746347823% of the total vote\n",
      "Raymon Anthony Doane: recieved 3.1389382517696256% of the total vote\n",
      "-----------------------------------------\n",
      "Winner: Diana DeGette\n",
      "Winning Vote Count: 272891\n",
      "Winning Percentage: 73.81197746347823% of the vote!\n",
      "-----------------------------------------\n"
     ]
    }
   ],
   "source": [
    "# Add our dependencies.\n",
    "import csv\n",
    "import os\n",
    "# Assign a variable to load a file from a path.\n",
    "file_to_load = os.path.join(\"Resources\", \"election_results.csv\")\n",
    "# Assign a variable to save the file to a path.\n",
    "file_to_save = os.path.join(\"analysis\", \"election_analysis.txt\")\n",
    "\n",
    "candidate_votes = {}\n",
    "total_votes = 0\n",
    "\n",
    "winning_candidate = ''\n",
    "greatest_vote = 0\n",
    "winning_percentage = 0\n",
    "\n",
    "# Open the election results and read the file.\n",
    "with open(file_to_load) as election_data:\n",
    "    file_reader = csv.reader(election_data)\n",
    "\n",
    "    # Read and print the header row.\n",
    "    headers = next(file_reader)\n",
    "    print(headers)\n",
    "\n",
    "    for row in file_reader:\n",
    "        candidate_name = row[2]\n",
    "        if candidate_name not in candidate_votes:\n",
    "            candidate_votes[candidate_name] = 0\n",
    "        else:\n",
    "            candidate_votes[candidate_name] += 1\n",
    "        if candidate_name not in candidate_options:\n",
    "            candidate_options.append(candidate_name)\n",
    "        total_votes += 1\n",
    "    #for candidate in candidate_options:\n",
    "    #    candidate_votes[candidate]=0\n",
    "    for candidate in candidate_votes:\n",
    "        votes = candidate_votes[candidate]\n",
    "        votePercentage = votes / total_votes * 100\n",
    "        print(f\"{candidate}: recieved {votePercentage}% of the total vote\")\n",
    "        if votePercentage > winning_percentage:\n",
    "            winning_percentage = votePercentage\n",
    "            winning_candidate = candidate\n",
    "    \n",
    "    print(\"-----------------------------------------\")\n",
    "    print(f\"Winner: {winning_candidate}\\nWinning Vote Count: {candidate_votes[winning_candidate]}\\nWinning Percentage: {winning_percentage}% of the vote!\")\n",
    "    print(\"-----------------------------------------\")\n",
    "    \n"
   ]
  }
 ],
 "metadata": {
  "interpreter": {
   "hash": "e7370f93d1d0cde622a1f8e1c04877d8463912d04d973331ad4851f04de6915a"
  },
  "kernelspec": {
   "display_name": "Python 3.10.2 64-bit",
   "language": "python",
   "name": "python3"
  },
  "language_info": {
   "codemirror_mode": {
    "name": "ipython",
    "version": 3
   },
   "file_extension": ".py",
   "mimetype": "text/x-python",
   "name": "python",
   "nbconvert_exporter": "python",
   "pygments_lexer": "ipython3",
   "version": "3.10.2"
  },
  "orig_nbformat": 4
 },
 "nbformat": 4,
 "nbformat_minor": 2
}
