{
 "cells": [
  {
   "cell_type": "markdown",
   "metadata": {},
   "source": [
    "# Project Goal:\n",
    "We have a dataset of tabulated results for a US Congressional Precinct in Colorado. We want to output certain information, which is:\n",
    "1. Total Votes counted\n",
    "2. Total number of votes per candidate\n",
    "3. The percentage breakdown of votes each condidate won\n",
    "4. The winner of the run\n",
    "\n",
    "## Voting Methods\n",
    "Of the tabulated resultes, there are a variety of voting methods too account for. \n",
    "- Mail-in-ballot\n",
    "- Punch Cards\n",
    "- Direct Recording Electronic Devices (DRE counting machines)\n"
   ]
  },
  {
   "cell_type": "code",
   "execution_count": 87,
   "metadata": {},
   "outputs": [
    {
     "name": "stdout",
     "output_type": "stream",
     "text": [
      "['Ballot ID', 'County', 'Candidate']\n",
      "\n",
      "Election Results\n",
      "-----------------------------------------\n",
      "Total Votes: 369,711\n",
      "-----------------------------------------\n",
      "Charles Casper Stockham: 23.0% (85,212)\n",
      "\n",
      "Diana DeGette: 73.8% (272,891)\n",
      "\n",
      "Raymon Anthony Doane: 3.1% (11,605)\n",
      "\n",
      "Winner: Charles Casper Stockham\n",
      "Winning Count: 85,212\n",
      "Winning Vote Percentage: 23.0%\n",
      "-----------------------------------------\n",
      "\n"
     ]
    }
   ],
   "source": [
    "# Add our dependencies.\n",
    "import csv\n",
    "import os\n",
    "# Assign a variable to load a file from a path.\n",
    "file_to_load = os.path.join(\"Resources\", \"election_results.csv\")\n",
    "# Assign a variable to save the file to a path.\n",
    "file_to_save = os.path.join(\"Analysis\", \"election_analysis.txt\")\n",
    "\n",
    "candidate_votes = {}\n",
    "total_votes = 0\n",
    "\n",
    "winning_candidate = ''\n",
    "greatest_vote = 0\n",
    "winning_percentage = 0\n",
    "\n",
    "# Open the election results and read the file.\n",
    "with open(file_to_load) as election_data:\n",
    "    file_reader = csv.reader(election_data)\n",
    "\n",
    "    # Read and print the header row.\n",
    "    headers = next(file_reader)\n",
    "    print(headers)\n",
    "\n",
    "    for row in file_reader:\n",
    "        candidate_name = row[2]\n",
    "        if candidate_name not in candidate_votes:\n",
    "            candidate_votes[candidate_name] = 0\n",
    "        else:\n",
    "            candidate_votes[candidate_name] += 1\n",
    "        if candidate_name not in candidate_options:\n",
    "            candidate_options.append(candidate_name)\n",
    "        total_votes += 1\n",
    "    #for candidate in candidate_options:\n",
    "    #    candidate_votes[candidate]=0\n",
    "\n",
    "    with open(file_to_save, \"w\") as txt_file:\n",
    "        election_results = (\n",
    "            f\"\\nElection Results\\n\"\n",
    "            f\"-----------------------------------------\\n\"\n",
    "            f\"Total Votes: {total_votes:,}\\n\"\n",
    "            f\"-----------------------------------------\\n\"\n",
    "\n",
    "        )\n",
    "        print(election_results, end='')\n",
    "        txt_file.write(election_results)\n",
    "        for candidate in candidate_votes:\n",
    "            votes = candidate_votes[candidate]\n",
    "            vote_percentage = float(votes) / float(total_votes) * 100\n",
    "            candidate_results = (f\"{candidate}: {vote_percentage:.1f}% ({votes:,})\\n\")\n",
    "            print(candidate_results)\n",
    "            txt_file.write(candidate_results)\n",
    "            if votePercentage > winning_percentage:\n",
    "                winning_percentage = votePercentage\n",
    "                winning_candidate = candidate\n",
    "        \n",
    "        #redundent print statement \n",
    "        #print(\"-----------------------------------------\")\n",
    "        #print(f\"Winner: {winning_candidate}\\nWinning Vote Count: {candidate_votes[winning_candidate]}\\nWinning Percentage: {winning_percentage}% of the vote!\")\n",
    "        #print(\"-----------------------------------------\")\n",
    "\n",
    "        winner_summary = (\n",
    "            f\"-----------------------------------------\\n\"\n",
    "            f\"Winner: {winning_candidate}\\n\"\n",
    "            f\"Winning Count: {candidate_votes[winning_candidate]:,}\\n\"\n",
    "            f\"Winning Vote Percentage: {winning_percentage:.1f}%\\n\"\n",
    "            f\"-----------------------------------------\\n\"\n",
    "        )\n",
    "        print(write_to_file_summary)\n",
    "        txt_file.write(winner_summary)\n",
    "        \n"
   ]
  }
 ],
 "metadata": {
  "interpreter": {
   "hash": "e7370f93d1d0cde622a1f8e1c04877d8463912d04d973331ad4851f04de6915a"
  },
  "kernelspec": {
   "display_name": "Python 3.10.2 64-bit",
   "language": "python",
   "name": "python3"
  },
  "language_info": {
   "codemirror_mode": {
    "name": "ipython",
    "version": 3
   },
   "file_extension": ".py",
   "mimetype": "text/x-python",
   "name": "python",
   "nbconvert_exporter": "python",
   "pygments_lexer": "ipython3",
   "version": "3.10.2"
  },
  "orig_nbformat": 4
 },
 "nbformat": 4,
 "nbformat_minor": 2
}
