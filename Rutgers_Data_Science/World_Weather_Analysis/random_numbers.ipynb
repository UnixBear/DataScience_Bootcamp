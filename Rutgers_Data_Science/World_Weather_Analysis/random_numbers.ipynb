{
 "cells": [
  {
   "cell_type": "code",
   "execution_count": 17,
   "metadata": {},
   "outputs": [],
   "source": [
    "import random\n",
    "import numpy as np\n"
   ]
  },
  {
   "cell_type": "code",
   "execution_count": 12,
   "metadata": {},
   "outputs": [
    {
     "data": {
      "text/plain": [
       "-10.470451859932185"
      ]
     },
     "execution_count": 12,
     "metadata": {},
     "output_type": "execute_result"
    }
   ],
   "source": [
    "random_number = random.randint(-90,89) + random.random()\n",
    "random_number"
   ]
  },
  {
   "cell_type": "code",
   "execution_count": 18,
   "metadata": {},
   "outputs": [
    {
     "data": {
      "text/plain": [
       "([5.321374654406868,\n",
       "  78.27745303855811,\n",
       "  57.92474611336153,\n",
       "  -63.96795972695285,\n",
       "  64.82630240525003,\n",
       "  -84.73207978010825,\n",
       "  43.85919492457062,\n",
       "  -53.06543980702166,\n",
       "  -75.30437539248668,\n",
       "  -78.34577354165563],\n",
       " 10)"
      ]
     },
     "execution_count": 18,
     "metadata": {},
     "output_type": "execute_result"
    }
   ],
   "source": [
    "#generating 10 random latitudes\n",
    "latties = []\n",
    "for lat in range(10):\n",
    "    latties.append(random.randint(-90,89) + random.random())\n",
    "latties, len(latties)"
   ]
  },
  {
   "cell_type": "code",
   "execution_count": 20,
   "metadata": {},
   "outputs": [
    {
     "name": "stdout",
     "output_type": "stream",
     "text": [
      "-90\n",
      "-66\n",
      "0\n",
      "69\n",
      "-63\n",
      "-66\n",
      "-30\n",
      "51\n",
      "-87\n",
      "42\n"
     ]
    }
   ],
   "source": [
    "#generating random numbers using a step method between integers\n",
    "for latty in range(10):\n",
    "    print(random.randrange(-90,90, step=3))"
   ]
  },
  {
   "cell_type": "code",
   "execution_count": 22,
   "metadata": {},
   "outputs": [
    {
     "name": "stdout",
     "output_type": "stream",
     "text": [
      "41.72251753766747\n",
      "56.24393376696207\n",
      "-43.397923394559086\n",
      "76.00318520697792\n",
      "-62.151908103029264\n",
      "-40.00755169407141\n",
      "27.790229665458156\n",
      "85.8512193657522\n",
      "14.776296579042736\n",
      "-89.52625788219734\n"
     ]
    }
   ],
   "source": [
    "#using the uniform method gives us a random number that is also a floating point\n",
    "for lattie in range(10):\n",
    "    print(random.uniform(-90,90))"
   ]
  },
  {
   "cell_type": "code",
   "execution_count": 34,
   "metadata": {},
   "outputs": [
    {
     "name": "stdout",
     "output_type": "stream",
     "text": [
      "82.33167944335867\n",
      "-14.10506795902856\n",
      "53.174844343708656\n",
      "[ 11.40362351  69.78804141 -15.25983352 -60.28360469 -50.49422196\n",
      "  26.312702   -30.62314152  71.74896048 -23.5120703  -57.96394688]\n"
     ]
    }
   ],
   "source": [
    "#using numpy to also give us random numbers using more efficient methods\n",
    "#note: using numpy replaces importing the random module as it supplements that module\n",
    "\n",
    "for lattie in range(3):\n",
    "    print(np.random.uniform(-90.000,90.000))\n",
    "\n",
    "\n",
    "#or, alternatively, instead of looping, one can specity the high and low and also the amount of numbers\n",
    "#specifying the size returns a list\n",
    "print(np.random.uniform(low=-90, high=90, size=10))"
   ]
  },
  {
   "cell_type": "markdown",
   "metadata": {},
   "source": [
    "### Comparing the modules\n",
    "if we want to see which of the modules perform faster, this is another module called 'timeit' that allows us to measure process time"
   ]
  },
  {
   "cell_type": "code",
   "execution_count": 38,
   "metadata": {},
   "outputs": [
    {
     "name": "stdout",
     "output_type": "stream",
     "text": [
      "24 µs ± 662 ns per loop (mean ± std. dev. of 7 runs, 10,000 loops each)\n"
     ]
    }
   ],
   "source": [
    "import timeit\n",
    "\n",
    "#jupyter needs a magic command to properly clock processes\n",
    "%timeit np.random.uniform(low=-90, high=90, size=1500)"
   ]
  },
  {
   "cell_type": "code",
   "execution_count": 40,
   "metadata": {},
   "outputs": [
    {
     "name": "stdout",
     "output_type": "stream",
     "text": [
      "2.52 ms ± 720 µs per loop (mean ± std. dev. of 7 runs, 100 loops each)\n"
     ]
    }
   ],
   "source": [
    "def lattydudes(size):\n",
    "    latties = []\n",
    "    for x in range(1500):\n",
    "        random_latty = random.randint(-90,90)+random.random()\n",
    "        latties.append(random_latty)\n",
    "    return latties\n",
    "%timeit lattydudes(1500)"
   ]
  },
  {
   "cell_type": "code",
   "execution_count": null,
   "metadata": {},
   "outputs": [],
   "source": []
  }
 ],
 "metadata": {
  "interpreter": {
   "hash": "e7370f93d1d0cde622a1f8e1c04877d8463912d04d973331ad4851f04de6915a"
  },
  "kernelspec": {
   "display_name": "Python 3.10.4 64-bit",
   "language": "python",
   "name": "python3"
  },
  "language_info": {
   "codemirror_mode": {
    "name": "ipython",
    "version": 3
   },
   "file_extension": ".py",
   "mimetype": "text/x-python",
   "name": "python",
   "nbconvert_exporter": "python",
   "pygments_lexer": "ipython3",
   "version": "3.10.4"
  },
  "orig_nbformat": 4
 },
 "nbformat": 4,
 "nbformat_minor": 2
}
