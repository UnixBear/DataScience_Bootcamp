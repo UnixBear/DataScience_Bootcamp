{
 "cells": [
  {
   "cell_type": "markdown",
   "metadata": {},
   "source": [
    "# Basic Project Plan\n",
    "Here's an outline of your project plan:\n",
    "\n",
    "- Task: Collect and analyze weather data across cities worldwide.\n",
    "- Purpose: PlanMyTrip will use the data to recommend ideal hotels based on clients' weather preferences.\n",
    "- Method: Create a Pandas DataFrame with 500 or more of the world's unique cities and their weather data in real time. This process will entail collecting, analyzing, and visualizing the data."
   ]
  },
  {
   "cell_type": "markdown",
   "metadata": {},
   "source": [
    "## Analysis\n",
    "Collect the Data\n",
    "\n",
    "- Use the NumPy module to generate more than 1,500 random latitudes and longitudes.\n",
    "- Use the citipy module to list the nearest city to the latitudes and longitudes.\n",
    "- Use the OpenWeatherMap API to request the current weather data from each unique city in your list.\n",
    "- Parse the JSON data from the API request.\n",
    "- Collect the following data from the JSON file and add it to a DataFrame:\n",
    "    - City, country, and date\n",
    "    - Latitude and longitude\n",
    "    - Maximum temperature\n",
    "    - Humidity\n",
    "    - Cloudiness\n",
    "    - Wind speed"
   ]
  },
  {
   "cell_type": "markdown",
   "metadata": {},
   "source": [
    "## Exploratory Analysis with Visualization\n",
    "\n",
    "- Create scatter plots of the weather data for the following comparisons:\n",
    "    - Latitude versus temperature\n",
    "    - Latitude versus humidity\n",
    "    - Latitude versus cloudiness\n",
    "    - Latitude versus wind speed\n",
    "- Determine the correlations for the following weather data:\n",
    "    - Latitude and temperature\n",
    "    - Latitude and humidity\n",
    "    - Latitude and cloudiness\n",
    "    - Latitude and wind speed\n",
    "- Create a series of heatmaps using the Google Maps and Places API that showcases the following:\n",
    "    - Latitude and temperature\n",
    "    - Latitude and humidity\n",
    "    - Latitude and cloudiness\n",
    "    - Latitude and wind speed\n"
   ]
  },
  {
   "cell_type": "markdown",
   "metadata": {},
   "source": [
    "## Visualize Travel Data\n",
    "\n",
    "Create a heatmap with pop-up markers that can display information on specific cities based on a customer's travel preferences. Complete these steps:\n",
    "\n",
    "\n",
    "1) Filter the Pandas DataFrame based on user inputs for a minimum and maximum temperature.\n",
    "2) Create a heatmap for the new DataFrame.\n",
    "3) Find a hotel from the cities' coordinates using Google's Maps and Places API, and Search Nearby feature.\n",
    "4) Store the name of the first hotel in the DataFrame.\n",
    "5) Add pop-up markers to the heatmap that display information about the city, current maximum temperature, and a hotel in the city."
   ]
  },
  {
   "cell_type": "markdown",
   "metadata": {},
   "source": []
  }
 ],
 "metadata": {
  "language_info": {
   "name": "python"
  },
  "orig_nbformat": 4
 },
 "nbformat": 4,
 "nbformat_minor": 2
}
