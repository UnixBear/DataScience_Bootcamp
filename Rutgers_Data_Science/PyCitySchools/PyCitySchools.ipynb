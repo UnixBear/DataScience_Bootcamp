{
 "cells": [
  {
   "cell_type": "code",
   "execution_count": 19,
   "id": "insured-zambia",
   "metadata": {},
   "outputs": [],
   "source": [
    "import pandas as pd\n",
    "\n",
    "# List of high schools\n",
    "high_schools = [\"Huang High School\",  \"Figueroa High School\", \"Shelton High School\", \"Hernandez High School\",\"Griffin High School\",\"Wilson High School\", \"Cabrera High School\", \"Bailey High School\", \"Holden High School\", \"Pena High School\", \"Wright High School\",\"Rodriguez High School\", \"Johnson High School\", \"Ford High School\", \"Thomas High School\"]\n",
    "\n",
    "# A dictionary of high schools and the type of school.\n",
    "high_school_dicts = [{\"School ID\": 0, \"school_name\": \"Huang High    School\", \"type\": \"District\"},\n",
    "                   {\"School ID\": 1, \"school_name\": \"Figueroa High School\", \"type\": \"District\"},\n",
    "                    {\"School ID\": 2, \"school_name\":\"Shelton High School\", \"type\": \"Charter\"},\n",
    "                    {\"School ID\": 3, \"school_name\":\"Hernandez High School\", \"type\": \"District\"},\n",
    "                    {\"School ID\": 4, \"school_name\":\"Griffin High School\", \"type\": \"Charter\"}]\n",
    "\n",
    "school_series = pd.Series(high_schools)\n",
    "school_dataFrame= pd.DataFrame(high_school_dicts)\n",
    "school_id = school_dataFrame['School ID'].tolist()\n",
    "school_name = school_dataFrame['school_name'].tolist()\n",
    "school_type = school_dataFrame['type'].tolist()\n",
    "#to reconstruct the earlier df by assigning columns to this DF\n",
    "#school_df = pd.DataFrame()\n",
    "#school_df[\"school_id\"] = school_id"
   ]
  },
  {
   "cell_type": "code",
   "execution_count": 71,
   "id": "5fd43d1e",
   "metadata": {},
   "outputs": [],
   "source": [
    "schoolCompleteDF = pd.read_csv(\"Resources/schools_complete.csv\")\n",
    "studentCompleteDF = pd.read_csv(\"Resources/students_complete.csv\")\n",
    "missingGradesDF = pd.read_csv(\"Resources/missing_grades.csv\")\n",
    "#studentCompleteDF['student_name'][3] = 'Richard Scott'\n",
    "#better way to replace Dr. Richard Scott \n",
    "#studentCompleteDF.replace({'student_name': 'Dr. Richard Scott'}, 'Richard Scott', inplace=True)\n",
    "#only run once after completion\n",
    "#studentCompleteDF.to_csv('Resources/students_complete.csv')"
   ]
  },
  {
   "cell_type": "code",
   "execution_count": 72,
   "id": "49b71387",
   "metadata": {},
   "outputs": [
    {
     "data": {
      "text/plain": [
       "Student ID       0\n",
       "student_name     0\n",
       "gender           0\n",
       "grade            0\n",
       "reading_score    1\n",
       "math_score       1\n",
       "dtype: int64"
      ]
     },
     "execution_count": 72,
     "metadata": {},
     "output_type": "execute_result"
    }
   ],
   "source": [
    "missingGradesDF.isnull().sum()"
   ]
  }
 ],
 "metadata": {
  "interpreter": {
   "hash": "1e78d4cf6ee61976aa959d568eeedaf164f285dc47b28490207c82054a8e44cc"
  },
  "kernelspec": {
   "display_name": "PythonData",
   "language": "python",
   "name": "pythondata"
  },
  "language_info": {
   "codemirror_mode": {
    "name": "ipython",
    "version": 3
   },
   "file_extension": ".py",
   "mimetype": "text/x-python",
   "name": "python",
   "nbconvert_exporter": "python",
   "pygments_lexer": "ipython3",
   "version": "3.9.7"
  }
 },
 "nbformat": 4,
 "nbformat_minor": 5
}
