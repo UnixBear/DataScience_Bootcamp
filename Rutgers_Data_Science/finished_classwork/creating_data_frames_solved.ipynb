{
 "cells": [
  {
   "cell_type": "code",
   "execution_count": 4,
   "metadata": {},
   "outputs": [],
   "source": [
    "# Dependencies\n",
    "import pandas as pd"
   ]
  },
  {
   "cell_type": "code",
   "execution_count": 5,
   "metadata": {},
   "outputs": [],
   "source": [
    "# Create a Pandas Series from the following list of schools.\n",
    "bootcamp_unis = [\"UCLA\", \"UC Berkeley\", \"UC Irvine\",\"University of Central Florida\", \"Rutgers University\"]\n",
    "bootcamp_uni_series = pd.Series(bootcamp_unis)"
   ]
  },
  {
   "cell_type": "code",
   "execution_count": 6,
   "metadata": {},
   "outputs": [
    {
     "data": {
      "text/html": [
       "<div>\n",
       "<style scoped>\n",
       "    .dataframe tbody tr th:only-of-type {\n",
       "        vertical-align: middle;\n",
       "    }\n",
       "\n",
       "    .dataframe tbody tr th {\n",
       "        vertical-align: top;\n",
       "    }\n",
       "\n",
       "    .dataframe thead th {\n",
       "        text-align: right;\n",
       "    }\n",
       "</style>\n",
       "<table border=\"1\" class=\"dataframe\">\n",
       "  <thead>\n",
       "    <tr style=\"text-align: right;\">\n",
       "      <th></th>\n",
       "      <th>Title</th>\n",
       "      <th>Year Released</th>\n",
       "    </tr>\n",
       "  </thead>\n",
       "  <tbody>\n",
       "    <tr>\n",
       "      <th>0</th>\n",
       "      <td>The Godfather</td>\n",
       "      <td>1972</td>\n",
       "    </tr>\n",
       "    <tr>\n",
       "      <th>1</th>\n",
       "      <td>The Shawshank Redemption</td>\n",
       "      <td>1994</td>\n",
       "    </tr>\n",
       "    <tr>\n",
       "      <th>2</th>\n",
       "      <td>Pulp Fiction</td>\n",
       "      <td>1994</td>\n",
       "    </tr>\n",
       "    <tr>\n",
       "      <th>3</th>\n",
       "      <td>The Lord of the Rings: The Return of the King</td>\n",
       "      <td>2003</td>\n",
       "    </tr>\n",
       "  </tbody>\n",
       "</table>\n",
       "</div>"
      ],
      "text/plain": [
       "                                           Title  Year Released\n",
       "0                                  The Godfather           1972\n",
       "1                       The Shawshank Redemption           1994\n",
       "2                                   Pulp Fiction           1994\n",
       "3  The Lord of the Rings: The Return of the King           2003"
      ]
     },
     "execution_count": 6,
     "metadata": {},
     "output_type": "execute_result"
    }
   ],
   "source": [
    "# Convert the following list of dictionaries into a DataFrame.\n",
    "movies_dicts = [{\"Title\": \"The Godfather\", \"Year Released\": 1972},\n",
    "                {\"Title\": \"The Shawshank Redemption\", \"Year Released\": 1994},\n",
    "                {\"Title\": \"Pulp Fiction\", \"Year Released\": 1994},\n",
    "                {\"Title\": \"The Lord of the Rings: The Return of the King\", \"Year Released\": 2003}]\n",
    "movies_series = pd.DataFrame(movies_dicts)\n",
    "\n",
    "movies_series.head()\n"
   ]
  },
  {
   "cell_type": "code",
   "execution_count": 7,
   "metadata": {},
   "outputs": [],
   "source": [
    "# Edit the movie_dicts so that the the values for the \"Title\" and \"Year Released\" are list of movie titles and years.\n",
    "#  Then, convert the dictionary of lists into a DataFrame. \n",
    "title_list = [\"The Godfather\",\"The Shawshank Redemption\",\"Pulp Fiction\", \"The Lord of the Rings: The Return of the King\"]\n",
    "year_list = [1972,1994,1994,2003]\n",
    "movie_dik = {\"Title:\" : title_list, \"Year:\" : year_list}\n",
    "movieDF = pd.DataFrame(movie_dik)\n",
    "\n"
   ]
  },
  {
   "cell_type": "code",
   "execution_count": 16,
   "metadata": {},
   "outputs": [],
   "source": [
    "# Create a DataFrame using a dictionary of lists\n",
    "dfdict = {\n",
    "    \"list of integers:\" : [1,2,3,4,5,6,7,8,9,10],\n",
    "    \"list of characters:\" : ['a','b','c', 'd','e','f','g','h','i','k'],\n",
    "    \"list of floats: \" : [0.1,0.01,0.001,0.0001,0.0001,0.0001,0.000001,0.0000001,1.1,11.1]\n",
    "}\n",
    "tempDF = pd.DataFrame(dfdict)"
   ]
  },
  {
   "cell_type": "code",
   "execution_count": 14,
   "metadata": {},
   "outputs": [
    {
     "name": "stderr",
     "output_type": "stream",
     "text": [
      "/tmp/ipykernel_17527/2549561257.py:1: FutureWarning: this method is deprecated in favour of `Styler.hide(axis='index')`\n",
      "  tempDF.style.hide_index()\n"
     ]
    },
    {
     "data": {
      "text/html": [
       "<style type=\"text/css\">\n",
       "</style>\n",
       "<table id=\"T_42b3c\">\n",
       "  <thead>\n",
       "    <tr>\n",
       "      <th id=\"T_42b3c_level0_col0\" class=\"col_heading level0 col0\" >list of integers:</th>\n",
       "      <th id=\"T_42b3c_level0_col1\" class=\"col_heading level0 col1\" >list of characters:</th>\n",
       "      <th id=\"T_42b3c_level0_col2\" class=\"col_heading level0 col2\" >list of floats: </th>\n",
       "    </tr>\n",
       "  </thead>\n",
       "  <tbody>\n",
       "    <tr>\n",
       "      <td id=\"T_42b3c_row0_col0\" class=\"data row0 col0\" >1</td>\n",
       "      <td id=\"T_42b3c_row0_col1\" class=\"data row0 col1\" >a</td>\n",
       "      <td id=\"T_42b3c_row0_col2\" class=\"data row0 col2\" >0.100000</td>\n",
       "    </tr>\n",
       "    <tr>\n",
       "      <td id=\"T_42b3c_row1_col0\" class=\"data row1 col0\" >2</td>\n",
       "      <td id=\"T_42b3c_row1_col1\" class=\"data row1 col1\" >b</td>\n",
       "      <td id=\"T_42b3c_row1_col2\" class=\"data row1 col2\" >0.010000</td>\n",
       "    </tr>\n",
       "    <tr>\n",
       "      <td id=\"T_42b3c_row2_col0\" class=\"data row2 col0\" >3</td>\n",
       "      <td id=\"T_42b3c_row2_col1\" class=\"data row2 col1\" >c</td>\n",
       "      <td id=\"T_42b3c_row2_col2\" class=\"data row2 col2\" >0.001000</td>\n",
       "    </tr>\n",
       "    <tr>\n",
       "      <td id=\"T_42b3c_row3_col0\" class=\"data row3 col0\" >4</td>\n",
       "      <td id=\"T_42b3c_row3_col1\" class=\"data row3 col1\" >d</td>\n",
       "      <td id=\"T_42b3c_row3_col2\" class=\"data row3 col2\" >0.000100</td>\n",
       "    </tr>\n",
       "    <tr>\n",
       "      <td id=\"T_42b3c_row4_col0\" class=\"data row4 col0\" >5</td>\n",
       "      <td id=\"T_42b3c_row4_col1\" class=\"data row4 col1\" >e</td>\n",
       "      <td id=\"T_42b3c_row4_col2\" class=\"data row4 col2\" >0.000100</td>\n",
       "    </tr>\n",
       "    <tr>\n",
       "      <td id=\"T_42b3c_row5_col0\" class=\"data row5 col0\" >6</td>\n",
       "      <td id=\"T_42b3c_row5_col1\" class=\"data row5 col1\" >f</td>\n",
       "      <td id=\"T_42b3c_row5_col2\" class=\"data row5 col2\" >0.000100</td>\n",
       "    </tr>\n",
       "    <tr>\n",
       "      <td id=\"T_42b3c_row6_col0\" class=\"data row6 col0\" >7</td>\n",
       "      <td id=\"T_42b3c_row6_col1\" class=\"data row6 col1\" >g</td>\n",
       "      <td id=\"T_42b3c_row6_col2\" class=\"data row6 col2\" >0.000001</td>\n",
       "    </tr>\n",
       "    <tr>\n",
       "      <td id=\"T_42b3c_row7_col0\" class=\"data row7 col0\" >8</td>\n",
       "      <td id=\"T_42b3c_row7_col1\" class=\"data row7 col1\" >h</td>\n",
       "      <td id=\"T_42b3c_row7_col2\" class=\"data row7 col2\" >0.000000</td>\n",
       "    </tr>\n",
       "    <tr>\n",
       "      <td id=\"T_42b3c_row8_col0\" class=\"data row8 col0\" >9</td>\n",
       "      <td id=\"T_42b3c_row8_col1\" class=\"data row8 col1\" >i</td>\n",
       "      <td id=\"T_42b3c_row8_col2\" class=\"data row8 col2\" >1.100000</td>\n",
       "    </tr>\n",
       "    <tr>\n",
       "      <td id=\"T_42b3c_row9_col0\" class=\"data row9 col0\" >10</td>\n",
       "      <td id=\"T_42b3c_row9_col1\" class=\"data row9 col1\" >k</td>\n",
       "      <td id=\"T_42b3c_row9_col2\" class=\"data row9 col2\" >11.100000</td>\n",
       "    </tr>\n",
       "  </tbody>\n",
       "</table>\n"
      ],
      "text/plain": [
       "<pandas.io.formats.style.Styler at 0x7f43e08c7670>"
      ]
     },
     "execution_count": 14,
     "metadata": {},
     "output_type": "execute_result"
    }
   ],
   "source": [
    "tempDF.head()\n"
   ]
  }
 ],
 "metadata": {
  "anaconda-cloud": {},
  "interpreter": {
   "hash": "767d51c1340bd893661ea55ea3124f6de3c7a262a8b4abca0554b478b1e2ff90"
  },
  "kernel_info": {
   "name": "python3"
  },
  "kernelspec": {
   "display_name": "PythonData",
   "language": "python",
   "name": "python3"
  },
  "language_info": {
   "codemirror_mode": {
    "name": "ipython",
    "version": 3
   },
   "file_extension": ".py",
   "mimetype": "text/x-python",
   "name": "python",
   "nbconvert_exporter": "python",
   "pygments_lexer": "ipython3",
   "version": "3.10.4"
  },
  "nteract": {
   "version": "0.2.0"
  }
 },
 "nbformat": 4,
 "nbformat_minor": 2
}
