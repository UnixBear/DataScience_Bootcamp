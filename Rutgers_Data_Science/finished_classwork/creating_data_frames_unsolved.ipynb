{
 "cells": [
  {
   "cell_type": "code",
   "execution_count": 32,
   "metadata": {},
   "outputs": [],
   "source": [
    "# Dependencies\n",
    "import pandas as pd"
   ]
  },
  {
   "cell_type": "code",
   "execution_count": 33,
   "metadata": {},
   "outputs": [],
   "source": [
    "# Create a Pandas Series from the following list of schools.\n",
    "bootcamp_unis = [\"UCLA\", \"UC Berkeley\", \"UC Irvine\",\"University of Central Florida\", \"Rutgers University\"]\n",
    "bootcamp_uni_series = pd.Series(bootcamp_unis)"
   ]
  },
  {
   "cell_type": "code",
   "execution_count": 34,
   "metadata": {},
   "outputs": [
    {
     "data": {
      "text/html": [
       "<div>\n",
       "<style scoped>\n",
       "    .dataframe tbody tr th:only-of-type {\n",
       "        vertical-align: middle;\n",
       "    }\n",
       "\n",
       "    .dataframe tbody tr th {\n",
       "        vertical-align: top;\n",
       "    }\n",
       "\n",
       "    .dataframe thead th {\n",
       "        text-align: right;\n",
       "    }\n",
       "</style>\n",
       "<table border=\"1\" class=\"dataframe\">\n",
       "  <thead>\n",
       "    <tr style=\"text-align: right;\">\n",
       "      <th></th>\n",
       "      <th>Title</th>\n",
       "      <th>Year Released</th>\n",
       "    </tr>\n",
       "  </thead>\n",
       "  <tbody>\n",
       "    <tr>\n",
       "      <th>0</th>\n",
       "      <td>The Godfather</td>\n",
       "      <td>1972</td>\n",
       "    </tr>\n",
       "    <tr>\n",
       "      <th>1</th>\n",
       "      <td>The Shawshank Redemption</td>\n",
       "      <td>1994</td>\n",
       "    </tr>\n",
       "    <tr>\n",
       "      <th>2</th>\n",
       "      <td>Pulp Fiction</td>\n",
       "      <td>1994</td>\n",
       "    </tr>\n",
       "    <tr>\n",
       "      <th>3</th>\n",
       "      <td>The Lord of the Rings: The Return of the King</td>\n",
       "      <td>2003</td>\n",
       "    </tr>\n",
       "  </tbody>\n",
       "</table>\n",
       "</div>"
      ],
      "text/plain": [
       "                                           Title  Year Released\n",
       "0                                  The Godfather           1972\n",
       "1                       The Shawshank Redemption           1994\n",
       "2                                   Pulp Fiction           1994\n",
       "3  The Lord of the Rings: The Return of the King           2003"
      ]
     },
     "execution_count": 34,
     "metadata": {},
     "output_type": "execute_result"
    }
   ],
   "source": [
    "# Convert the following list of dictionaries into a DataFrame.\n",
    "movies_dicts = [{\"Title\": \"The Godfather\", \"Year Released\": 1972},\n",
    "                {\"Title\": \"The Shawshank Redemption\", \"Year Released\": 1994},\n",
    "                {\"Title\": \"Pulp Fiction\", \"Year Released\": 1994},\n",
    "                {\"Title\": \"The Lord of the Rings: The Return of the King\", \"Year Released\": 2003}]\n",
    "movies_series = pd.DataFrame(movies_dicts)\n",
    "\n",
    "movies_series.head()\n"
   ]
  },
  {
   "cell_type": "code",
   "execution_count": 35,
   "metadata": {},
   "outputs": [],
   "source": [
    "# Edit the movie_dicts so that the the values for the \"Title\" and \"Year Released\" are list of movie titles and years.\n",
    "#  Then, convert the dictionary of lists into a DataFrame. \n",
    "title_list = [\"The Godfather\",\"The Shawshank Redemption\",\"Pulp Fiction\", \"The Lord of the Rings: The Return of the King\"]\n",
    "year_list = [1972,1994,1994,2003]\n",
    "movie_dik = {\"Title:\" : title_list, \"Year:\" : year_list}\n",
    "movieDF = pd.DataFrame(movie_dik)\n",
    "\n"
   ]
  },
  {
   "cell_type": "code",
   "execution_count": 36,
   "metadata": {},
   "outputs": [],
   "source": [
    "# Create a DataFrame using a dictionary of lists\n"
   ]
  },
  {
   "cell_type": "code",
   "execution_count": null,
   "metadata": {},
   "outputs": [],
   "source": []
  }
 ],
 "metadata": {
  "anaconda-cloud": {},
  "interpreter": {
   "hash": "767d51c1340bd893661ea55ea3124f6de3c7a262a8b4abca0554b478b1e2ff90"
  },
  "kernel_info": {
   "name": "python3"
  },
  "kernelspec": {
   "display_name": "PythonData",
   "language": "python",
   "name": "python3"
  },
  "language_info": {
   "codemirror_mode": {
    "name": "ipython",
    "version": 3
   },
   "file_extension": ".py",
   "mimetype": "text/x-python",
   "name": "python",
   "nbconvert_exporter": "python",
   "pygments_lexer": "ipython3",
   "version": "3.10.4"
  },
  "nteract": {
   "version": "0.2.0"
  }
 },
 "nbformat": 4,
 "nbformat_minor": 2
}
