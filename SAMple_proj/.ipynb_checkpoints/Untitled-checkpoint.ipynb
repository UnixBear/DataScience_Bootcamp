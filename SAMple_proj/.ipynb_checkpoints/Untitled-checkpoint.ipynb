{
 "cells": [
  {
   "cell_type": "markdown",
   "id": "reduced-reporter",
   "metadata": {},
   "source": [
    "## Heart Disease Project\n"
   ]
  },
  {
   "cell_type": "markdown",
   "id": "qualified-jerusalem",
   "metadata": {},
   "source": [
    "this project is about classifying whether or not a patient has heart disease"
   ]
  },
  {
   "cell_type": "code",
   "execution_count": 4,
   "id": "cordless-resident",
   "metadata": {},
   "outputs": [],
   "source": [
    "import pandas as pd"
   ]
  },
  {
   "cell_type": "code",
   "execution_count": null,
   "id": "regional-captain",
   "metadata": {},
   "outputs": [],
   "source": [
    "df = pd.read_csv(\"\")"
   ]
  }
 ],
 "metadata": {
  "kernelspec": {
   "display_name": "Python 3",
   "language": "python",
   "name": "python3"
  },
  "language_info": {
   "codemirror_mode": {
    "name": "ipython",
    "version": 3
   },
   "file_extension": ".py",
   "mimetype": "text/x-python",
   "name": "python",
   "nbconvert_exporter": "python",
   "pygments_lexer": "ipython3",
   "version": "3.9.7"
  }
 },
 "nbformat": 4,
 "nbformat_minor": 5
}
