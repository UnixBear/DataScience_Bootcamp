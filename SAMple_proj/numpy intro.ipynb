{
 "cells": [
  {
   "cell_type": "code",
   "execution_count": 1,
   "metadata": {},
   "outputs": [],
   "source": [
    "import numpy as np"
   ]
  },
  {
   "cell_type": "markdown",
   "metadata": {},
   "source": [
    "## Data Types and Arrays"
   ]
  },
  {
   "cell_type": "code",
   "execution_count": 2,
   "metadata": {},
   "outputs": [
    {
     "data": {
      "text/plain": [
       "(6, 2)"
      ]
     },
     "execution_count": 2,
     "metadata": {},
     "output_type": "execute_result"
    }
   ],
   "source": [
    "#ndarray means n-dimensional array\n",
    "a1 = np.array([[1,2,3],[3,2,1]])\n",
    "type(a1)\n",
    "a1.size,a1.ndim"
   ]
  },
  {
   "cell_type": "markdown",
   "metadata": {},
   "source": [
    "## Creating a DF from a numpy array"
   ]
  },
  {
   "cell_type": "code",
   "execution_count": 3,
   "metadata": {},
   "outputs": [],
   "source": [
    "import pandas as pd\n",
    "df = pd.DataFrame(a1)\n"
   ]
  },
  {
   "cell_type": "code",
   "execution_count": 4,
   "metadata": {},
   "outputs": [
    {
     "data": {
      "text/plain": [
       "array([[1., 1., 1.],\n",
       "       [1., 1., 1.],\n",
       "       [1., 1., 1.]])"
      ]
     },
     "execution_count": 4,
     "metadata": {},
     "output_type": "execute_result"
    }
   ],
   "source": [
    "ones = np.ones([3,3])\n",
    "ones"
   ]
  },
  {
   "cell_type": "code",
   "execution_count": 5,
   "metadata": {},
   "outputs": [
    {
     "data": {
      "text/plain": [
       "array([[0., 0., 0.],\n",
       "       [0., 0., 0.],\n",
       "       [0., 0., 0.]])"
      ]
     },
     "execution_count": 5,
     "metadata": {},
     "output_type": "execute_result"
    }
   ],
   "source": [
    "zeroes = np.zeros([3,3])\n",
    "zeroes"
   ]
  },
  {
   "cell_type": "code",
   "execution_count": 6,
   "metadata": {},
   "outputs": [
    {
     "data": {
      "text/plain": [
       "array([ 0,  5, 10, 15])"
      ]
     },
     "execution_count": 6,
     "metadata": {},
     "output_type": "execute_result"
    }
   ],
   "source": [
    "range_array = np.arange(0,20,5)\n",
    "range_array"
   ]
  },
  {
   "cell_type": "code",
   "execution_count": 7,
   "metadata": {},
   "outputs": [
    {
     "data": {
      "text/plain": [
       "array([[16, 29,  7, 24],\n",
       "       [26, 12,  4, 21]])"
      ]
     },
     "execution_count": 7,
     "metadata": {},
     "output_type": "execute_result"
    }
   ],
   "source": [
    "temp = np.random.randint(0,30, size = (2,4))\n",
    "temp"
   ]
  },
  {
   "cell_type": "code",
   "execution_count": 8,
   "metadata": {},
   "outputs": [
    {
     "data": {
      "text/plain": [
       "array([[0.44729659, 0.77394707, 0.18248744, 0.22870783, 0.86131634,\n",
       "        0.61628374, 0.2104265 , 0.4807604 , 0.49350966, 0.48580015],\n",
       "       [0.83882908, 0.6055195 , 0.89302067, 0.78487714, 0.01075159,\n",
       "        0.62345359, 0.33458041, 0.07822713, 0.83452669, 0.76663591],\n",
       "       [0.45086857, 0.95997642, 0.99803886, 0.26942901, 0.89263111,\n",
       "        0.18032378, 0.89842188, 0.70128778, 0.1826312 , 0.56729653],\n",
       "       [0.78692277, 0.83057508, 0.56765251, 0.13195008, 0.64743833,\n",
       "        0.41164321, 0.08243891, 0.60164797, 0.67839948, 0.93633888],\n",
       "       [0.86046984, 0.93390407, 0.02829107, 0.29624912, 0.71875586,\n",
       "        0.20976772, 0.20760123, 0.1750984 , 0.13541025, 0.81379933],\n",
       "       [0.30333949, 0.14235445, 0.17270419, 0.01471162, 0.78496986,\n",
       "        0.79167371, 0.69094109, 0.36358627, 0.95950038, 0.3674329 ],\n",
       "       [0.29578782, 0.83371761, 0.4121146 , 0.89140139, 0.00235099,\n",
       "        0.62283808, 0.56719823, 0.56090251, 0.17303562, 0.85522929],\n",
       "       [0.89129767, 0.17065704, 0.41714555, 0.78303569, 0.11493622,\n",
       "        0.57775635, 0.24439638, 0.1623551 , 0.7860789 , 0.94542589],\n",
       "       [0.7413529 , 0.44872722, 0.95629827, 0.83339294, 0.18904938,\n",
       "        0.62346743, 0.47134287, 0.87014624, 0.2195192 , 0.07255475],\n",
       "       [0.8179825 , 0.3325387 , 0.32204319, 0.33613513, 0.23299429,\n",
       "        0.648132  , 0.14270547, 0.62339886, 0.0180683 , 0.52278745]])"
      ]
     },
     "execution_count": 8,
     "metadata": {},
     "output_type": "execute_result"
    }
   ],
   "source": [
    "np.random.random((10, 10))"
   ]
  },
  {
   "cell_type": "code",
   "execution_count": 9,
   "metadata": {},
   "outputs": [
    {
     "data": {
      "text/plain": [
       "array([[ 8, 24, 67, 87, 79],\n",
       "       [48, 10, 94, 52, 98],\n",
       "       [53, 66, 98, 14, 34],\n",
       "       [24, 15, 60, 58, 16],\n",
       "       [ 9, 93, 86,  2, 27]])"
      ]
     },
     "execution_count": 9,
     "metadata": {},
     "output_type": "execute_result"
    }
   ],
   "source": [
    "#random number seeds\n",
    "np.random.seed(seed=100)\n",
    "randArray = np.random.randint(100, size=(5,5))\n",
    "randArray[:]"
   ]
  },
  {
   "cell_type": "markdown",
   "metadata": {},
   "source": [
    "Viewing Arrays and Matricies"
   ]
  },
  {
   "cell_type": "code",
   "execution_count": 10,
   "metadata": {},
   "outputs": [
    {
     "data": {
      "text/plain": [
       "array([ 2,  8,  9, 10, 14, 15, 16, 24, 27, 34, 48, 52, 53, 58, 60, 66, 67,\n",
       "       79, 86, 87, 93, 94, 98])"
      ]
     },
     "execution_count": 10,
     "metadata": {},
     "output_type": "execute_result"
    }
   ],
   "source": [
    "#finding unique elements in an array\n",
    "np.unique(randArray)"
   ]
  },
  {
   "cell_type": "code",
   "execution_count": 11,
   "metadata": {},
   "outputs": [
    {
     "data": {
      "text/plain": [
       "array([[[[4, 1, 5, 3, 4],\n",
       "         [4, 3, 7, 1, 1],\n",
       "         [7, 7, 0, 2, 9],\n",
       "         [9, 3, 2, 5, 8]],\n",
       "\n",
       "        [[1, 0, 7, 6, 2],\n",
       "         [0, 8, 2, 5, 1],\n",
       "         [8, 1, 5, 4, 2],\n",
       "         [8, 3, 5, 0, 9]],\n",
       "\n",
       "        [[3, 6, 3, 4, 7],\n",
       "         [6, 3, 9, 0, 4],\n",
       "         [4, 5, 7, 6, 6],\n",
       "         [2, 4, 2, 7, 1]]],\n",
       "\n",
       "\n",
       "       [[[6, 6, 0, 7, 2],\n",
       "         [3, 5, 4, 2, 4],\n",
       "         [3, 7, 9, 0, 0],\n",
       "         [5, 9, 6, 6, 5]],\n",
       "\n",
       "        [[6, 4, 7, 3, 9],\n",
       "         [2, 3, 8, 7, 1],\n",
       "         [5, 9, 3, 0, 6],\n",
       "         [2, 3, 4, 8, 9]],\n",
       "\n",
       "        [[8, 5, 2, 7, 5],\n",
       "         [9, 0, 9, 8, 6],\n",
       "         [2, 0, 5, 3, 2],\n",
       "         [3, 6, 4, 1, 3]]]])"
      ]
     },
     "execution_count": 11,
     "metadata": {},
     "output_type": "execute_result"
    }
   ],
   "source": [
    "#getting a higher dimensional array is a matrix\n",
    "randMat = np.random.randint(10, size = (2,3,4,5))\n",
    "randMat"
   ]
  },
  {
   "cell_type": "code",
   "execution_count": 12,
   "metadata": {},
   "outputs": [
    {
     "data": {
      "text/plain": [
       "array([[[4, 1, 9, 8],\n",
       "        [2, 1, 2, 9],\n",
       "        [7, 4, 6, 1]],\n",
       "\n",
       "       [[2, 4, 0, 5],\n",
       "        [9, 1, 6, 9],\n",
       "        [5, 6, 2, 3]]])"
      ]
     },
     "execution_count": 12,
     "metadata": {},
     "output_type": "execute_result"
    }
   ],
   "source": [
    "#getting the first four numbers of the inner most array\n",
    "randMat[:,:,:,4]"
   ]
  },
  {
   "cell_type": "code",
   "execution_count": 13,
   "metadata": {},
   "outputs": [
    {
     "data": {
      "text/plain": [
       "array([[[[ 5.,  2.,  6.,  4.,  5.],\n",
       "         [ 5.,  4.,  8.,  2.,  2.],\n",
       "         [ 8.,  8.,  1.,  3., 10.],\n",
       "         [10.,  4.,  3.,  6.,  9.]],\n",
       "\n",
       "        [[ 2.,  1.,  8.,  7.,  3.],\n",
       "         [ 1.,  9.,  3.,  6.,  2.],\n",
       "         [ 9.,  2.,  6.,  5.,  3.],\n",
       "         [ 9.,  4.,  6.,  1., 10.]],\n",
       "\n",
       "        [[ 4.,  7.,  4.,  5.,  8.],\n",
       "         [ 7.,  4., 10.,  1.,  5.],\n",
       "         [ 5.,  6.,  8.,  7.,  7.],\n",
       "         [ 3.,  5.,  3.,  8.,  2.]]],\n",
       "\n",
       "\n",
       "       [[[ 7.,  7.,  1.,  8.,  3.],\n",
       "         [ 4.,  6.,  5.,  3.,  5.],\n",
       "         [ 4.,  8., 10.,  1.,  1.],\n",
       "         [ 6., 10.,  7.,  7.,  6.]],\n",
       "\n",
       "        [[ 7.,  5.,  8.,  4., 10.],\n",
       "         [ 3.,  4.,  9.,  8.,  2.],\n",
       "         [ 6., 10.,  4.,  1.,  7.],\n",
       "         [ 3.,  4.,  5.,  9., 10.]],\n",
       "\n",
       "        [[ 9.,  6.,  3.,  8.,  6.],\n",
       "         [10.,  1., 10.,  9.,  7.],\n",
       "         [ 3.,  1.,  6.,  4.,  3.],\n",
       "         [ 4.,  7.,  5.,  2.,  4.]]]])"
      ]
     },
     "execution_count": 13,
     "metadata": {},
     "output_type": "execute_result"
    }
   ],
   "source": [
    "np.ones((2,3,4,5)) + randMat"
   ]
  },
  {
   "cell_type": "markdown",
   "metadata": {},
   "source": [
    "## How to reshape numpy array"
   ]
  },
  {
   "cell_type": "code",
   "execution_count": 14,
   "metadata": {},
   "outputs": [
    {
     "ename": "ValueError",
     "evalue": "operands could not be broadcast together with shapes (5,5) (2,3,4,5) ",
     "output_type": "error",
     "traceback": [
      "\u001b[0;31m---------------------------------------------------------------------------\u001b[0m",
      "\u001b[0;31mValueError\u001b[0m                                Traceback (most recent call last)",
      "\u001b[1;32m/home/soc/Projects/DataScience_Bootcamp/SAMple_proj/numpy intro.ipynb Cell 18'\u001b[0m in \u001b[0;36m<cell line: 1>\u001b[0;34m()\u001b[0m\n\u001b[0;32m----> <a href='vscode-notebook-cell:/home/soc/Projects/DataScience_Bootcamp/SAMple_proj/numpy%20intro.ipynb#ch0000017?line=0'>1</a>\u001b[0m randArray \u001b[39m*\u001b[39;49m randMat\n",
      "\u001b[0;31mValueError\u001b[0m: operands could not be broadcast together with shapes (5,5) (2,3,4,5) "
     ]
    }
   ],
   "source": [
    "randArray * randMat"
   ]
  },
  {
   "cell_type": "code",
   "execution_count": null,
   "metadata": {},
   "outputs": [],
   "source": [
    "temp = np.random.randint(10, size=(2,3))\n"
   ]
  },
  {
   "cell_type": "code",
   "execution_count": 20,
   "metadata": {},
   "outputs": [],
   "source": [
    "temp = pd.DataFrame(np.random.randint(20, size = (2,2)))\n",
    "bigArray = np.random.random(1000000)\n"
   ]
  },
  {
   "cell_type": "code",
   "execution_count": 21,
   "metadata": {},
   "outputs": [
    {
     "name": "stdout",
     "output_type": "stream",
     "text": [
      "111 ms ± 2.68 ms per loop (mean ± std. dev. of 7 runs, 10 loops each)\n",
      "998 µs ± 12.3 µs per loop (mean ± std. dev. of 7 runs, 1,000 loops each)\n"
     ]
    }
   ],
   "source": [
    "%timeit sum(bigArray)\n",
    "%timeit np.sum(bigArray)"
   ]
  },
  {
   "cell_type": "code",
   "execution_count": 24,
   "metadata": {},
   "outputs": [
    {
     "data": {
      "text/plain": [
       "0.0832949912743189"
      ]
     },
     "execution_count": 24,
     "metadata": {},
     "output_type": "execute_result"
    }
   ],
   "source": [
    "#variance = measure of the average degree to which a number is different from another number\n",
    "#higher variance implies a wider range of numbers\n",
    "#lower variance implies a lower range of numbers\n",
    "\n",
    "np.var(bigArray)"
   ]
  },
  {
   "cell_type": "code",
   "execution_count": 25,
   "metadata": {},
   "outputs": [
    {
     "data": {
      "text/plain": [
       "0.28860871655984144"
      ]
     },
     "execution_count": 25,
     "metadata": {},
     "output_type": "execute_result"
    }
   ],
   "source": [
    "np.sqrt(np.var(bigArray))"
   ]
  },
  {
   "cell_type": "code",
   "execution_count": 27,
   "metadata": {},
   "outputs": [
    {
     "data": {
      "text/plain": [
       "0.28860871655984144"
      ]
     },
     "execution_count": 27,
     "metadata": {},
     "output_type": "execute_result"
    }
   ],
   "source": [
    "np.std(bigArray)"
   ]
  },
  {
   "cell_type": "code",
   "execution_count": 30,
   "metadata": {},
   "outputs": [],
   "source": [
    "a2 = np.array([[1,2,3.3],[4,5,6.5]])\n",
    "a3 = np.array([[[1,2,3],[4,5,6],[7,8,9]], [[10,11,12], [13,14,15], [16,17,18]]])"
   ]
  },
  {
   "cell_type": "code",
   "execution_count": 36,
   "metadata": {},
   "outputs": [
    {
     "data": {
      "text/plain": [
       "array([[[  1. ,   2. ,   3. ],\n",
       "        [  8. ,  10. ,  12. ],\n",
       "        [ 23.1,  26.4,  29.7]],\n",
       "\n",
       "       [[ 40. ,  44. ,  48. ],\n",
       "        [ 65. ,  70. ,  75. ],\n",
       "        [104. , 110.5, 117. ]]])"
      ]
     },
     "execution_count": 36,
     "metadata": {},
     "output_type": "execute_result"
    }
   ],
   "source": [
    "a2.reshape(2,3,1)*a3"
   ]
  },
  {
   "cell_type": "code",
   "execution_count": 42,
   "metadata": {},
   "outputs": [],
   "source": [
    "mat1= np.random.randint(10, size=(5,3))\n",
    "mat2= np.random.randint(10, size=(5,3))\n"
   ]
  },
  {
   "cell_type": "code",
   "execution_count": 55,
   "metadata": {},
   "outputs": [
    {
     "name": "stdout",
     "output_type": "stream",
     "text": [
      "[[1 0 7]\n",
      " [0 9 0]\n",
      " [2 7 0]\n",
      " [9 4 2]\n",
      " [1 2 9]]\n",
      "[[3 0 2]\n",
      " [4 8 7]\n",
      " [4 9 5]\n",
      " [3 9 7]\n",
      " [5 3 9]]\n",
      "the elementwise product is: \n",
      "    [[ 3  0 14]\n",
      " [ 0 72  0]\n",
      " [ 8 63  0]\n",
      " [27 36 14]\n",
      " [ 5  6 81]]\n",
      "the dot product with a single transpose is: \n",
      " [[17 53 39 52 68]\n",
      " [ 0 72 81 81 27]\n",
      " [ 6 64 71 69 31]\n",
      " [31 82 82 77 75]\n",
      " [21 83 67 84 92]]\n"
     ]
    }
   ],
   "source": [
    "print(mat1)\n",
    "print(mat2)\n",
    "\n",
    "#hadamard product\n",
    "print(\"the elementwise product is: \\n   \",mat1 *mat2)\n",
    "\n",
    "#dot product and transpose\n",
    "print(\"the dot product with a single transpose is: \\n\", np.dot(mat1,mat2.T))"
   ]
  },
  {
   "cell_type": "markdown",
   "metadata": {},
   "source": [
    "## Dot Product Example"
   ]
  },
  {
   "cell_type": "code",
   "execution_count": 56,
   "metadata": {},
   "outputs": [],
   "source": [
    "np.random.seed(1)\n",
    "#number of jars sold over 5 days with size = (type,days)\n",
    "sales_amount = np.random.randint(7, size=(5,3))\n"
   ]
  },
  {
   "cell_type": "code",
   "execution_count": 65,
   "metadata": {},
   "outputs": [
    {
     "data": {
      "text/html": [
       "<div>\n",
       "<style scoped>\n",
       "    .dataframe tbody tr th:only-of-type {\n",
       "        vertical-align: middle;\n",
       "    }\n",
       "\n",
       "    .dataframe tbody tr th {\n",
       "        vertical-align: top;\n",
       "    }\n",
       "\n",
       "    .dataframe thead th {\n",
       "        text-align: right;\n",
       "    }\n",
       "</style>\n",
       "<table border=\"1\" class=\"dataframe\">\n",
       "  <thead>\n",
       "    <tr style=\"text-align: right;\">\n",
       "      <th></th>\n",
       "      <th>almond butter</th>\n",
       "      <th>peanut butter</th>\n",
       "      <th>cashew butter</th>\n",
       "    </tr>\n",
       "  </thead>\n",
       "  <tbody>\n",
       "    <tr>\n",
       "      <th>mon</th>\n",
       "      <td>5</td>\n",
       "      <td>3</td>\n",
       "      <td>4</td>\n",
       "    </tr>\n",
       "    <tr>\n",
       "      <th>tue</th>\n",
       "      <td>0</td>\n",
       "      <td>1</td>\n",
       "      <td>3</td>\n",
       "    </tr>\n",
       "    <tr>\n",
       "      <th>wed</th>\n",
       "      <td>5</td>\n",
       "      <td>0</td>\n",
       "      <td>0</td>\n",
       "    </tr>\n",
       "    <tr>\n",
       "      <th>thur</th>\n",
       "      <td>1</td>\n",
       "      <td>4</td>\n",
       "      <td>5</td>\n",
       "    </tr>\n",
       "    <tr>\n",
       "      <th>fri</th>\n",
       "      <td>4</td>\n",
       "      <td>6</td>\n",
       "      <td>1</td>\n",
       "    </tr>\n",
       "  </tbody>\n",
       "</table>\n",
       "</div>"
      ],
      "text/plain": [
       "      almond butter  peanut butter  cashew butter\n",
       "mon               5              3              4\n",
       "tue               0              1              3\n",
       "wed               5              0              0\n",
       "thur              1              4              5\n",
       "fri               4              6              1"
      ]
     },
     "execution_count": 65,
     "metadata": {},
     "output_type": "execute_result"
    }
   ],
   "source": [
    "#weekly sales dataframe\n",
    "weeklySales = pd.DataFrame(sales_amount, index=[\"mon\",\"tue\",\"wed\",\"thur\",\"fri\"],\n",
    "columns = [\"almond butter\", 'peanut butter', 'cashew butter'])\n",
    "\n",
    "weeklySales"
   ]
  },
  {
   "cell_type": "code",
   "execution_count": 69,
   "metadata": {},
   "outputs": [],
   "source": [
    "price = np.array([10,8,12])\n",
    "buttaPrices = pd.DataFrame(price.reshape(1,3), index = [\"price\"], columns=[\"almond butter\",\"peanut butter\", \"cashew butter\"])\n"
   ]
  },
  {
   "cell_type": "code",
   "execution_count": 71,
   "metadata": {},
   "outputs": [
    {
     "data": {
      "text/html": [
       "<div>\n",
       "<style scoped>\n",
       "    .dataframe tbody tr th:only-of-type {\n",
       "        vertical-align: middle;\n",
       "    }\n",
       "\n",
       "    .dataframe tbody tr th {\n",
       "        vertical-align: top;\n",
       "    }\n",
       "\n",
       "    .dataframe thead th {\n",
       "        text-align: right;\n",
       "    }\n",
       "</style>\n",
       "<table border=\"1\" class=\"dataframe\">\n",
       "  <thead>\n",
       "    <tr style=\"text-align: right;\">\n",
       "      <th></th>\n",
       "      <th>almond butter</th>\n",
       "      <th>peanut butter</th>\n",
       "      <th>cashew butter</th>\n",
       "    </tr>\n",
       "  </thead>\n",
       "  <tbody>\n",
       "    <tr>\n",
       "      <th>price</th>\n",
       "      <td>10</td>\n",
       "      <td>8</td>\n",
       "      <td>12</td>\n",
       "    </tr>\n",
       "  </tbody>\n",
       "</table>\n",
       "</div>"
      ],
      "text/plain": [
       "       almond butter  peanut butter  cashew butter\n",
       "price             10              8             12"
      ]
     },
     "execution_count": 71,
     "metadata": {},
     "output_type": "execute_result"
    }
   ],
   "source": [
    "buttaPrices"
   ]
  },
  {
   "cell_type": "code",
   "execution_count": 75,
   "metadata": {},
   "outputs": [],
   "source": [
    "#to get the totals, we use a dot product but the shapes need to be aligned\n",
    "\n",
    "totalSales = price.dot(sales_amount.T )"
   ]
  },
  {
   "cell_type": "code",
   "execution_count": null,
   "metadata": {},
   "outputs": [],
   "source": []
  }
 ],
 "metadata": {
  "interpreter": {
   "hash": "e7370f93d1d0cde622a1f8e1c04877d8463912d04d973331ad4851f04de6915a"
  },
  "kernelspec": {
   "display_name": "Python 3.10.2 64-bit",
   "language": "python",
   "name": "python3"
  },
  "language_info": {
   "codemirror_mode": {
    "name": "ipython",
    "version": 3
   },
   "file_extension": ".py",
   "mimetype": "text/x-python",
   "name": "python",
   "nbconvert_exporter": "python",
   "pygments_lexer": "ipython3",
   "version": "3.10.2"
  },
  "orig_nbformat": 4
 },
 "nbformat": 4,
 "nbformat_minor": 2
}
